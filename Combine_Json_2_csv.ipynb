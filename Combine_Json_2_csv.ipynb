{
 "cells": [
  {
   "cell_type": "markdown",
   "metadata": {},
   "source": [
    "# This is to combine all json files you produced with SciSift into a CSV and view it"
   ]
  },
  {
   "cell_type": "code",
   "execution_count": null,
   "metadata": {},
   "outputs": [],
   "source": [
    "# Directory where JSON files are located\n",
    "json_directory = './/Test papers for review//1//'  # Adjust this path to your directory"
   ]
  },
  {
   "cell_type": "code",
   "execution_count": null,
   "metadata": {},
   "outputs": [],
   "source": [
    "import json\n",
    "import csv\n",
    "import os\n",
    "import pandas as pd\n",
    "\n",
    "\n",
    "def is_json_file(filename):\n",
    "    \"\"\"Check if the file has a JSON extension (case insensitive).\"\"\"\n",
    "    return filename.lower().endswith(\".json\")\n",
    "\n",
    "data_list = []\n",
    "\n",
    "# Get a list of all JSON files in the directory\n",
    "json_files = [f for f in os.listdir(json_directory) if is_json_file(f)]\n",
    "\n",
    "# If there are no JSON files, exit\n",
    "if not json_files:\n",
    "    print(\"No JSON files found.\")\n",
    "    exit()\n",
    "\n",
    "# Read the first JSON file and set ordered_keys\n",
    "with open(os.path.join(json_directory, json_files[0]), 'r') as json_file:\n",
    "    first_data = json.load(json_file)\n",
    "    ordered_keys = list(first_data.keys())\n",
    "    data_list.append(first_data)\n",
    "\n",
    "# Iterate through the remaining JSON files in the directory\n",
    "for filename in json_files[1:]:\n",
    "    with open(os.path.join(json_directory, filename), 'r') as json_file:\n",
    "        data = json.load(json_file)\n",
    "        data_list.append(data)\n",
    "            \n",
    "        # If a key isn't in ordered_keys yet, append it\n",
    "        for key in data.keys():\n",
    "            if key not in ordered_keys:\n",
    "                ordered_keys.append(key)\n",
    "\n",
    "# Write the collected data to a CSV file\n",
    "csv_path = os.path.join(json_directory,'combined_data.csv')\n",
    "with open(csv_path, 'w', newline='') as csv_file:\n",
    "    writer = csv.DictWriter(csv_file, fieldnames=ordered_keys)\n",
    "    writer.writeheader()\n",
    "    for row in data_list:\n",
    "        writer.writerow(row)\n",
    "\n",
    "\n",
    "# Read the CSV file and Display it\n",
    "df = pd.read_csv(csv_path)\n",
    "df.head()"
   ]
  },
  {
   "cell_type": "code",
   "execution_count": null,
   "metadata": {},
   "outputs": [],
   "source": [
    "# !pip install plotly==5.17.0"
   ]
  },
  {
   "cell_type": "code",
   "execution_count": null,
   "metadata": {},
   "outputs": [],
   "source": [
    "# If you want to display more colorful table of results\n",
    "\n",
    "import plotly.graph_objects as go\n",
    "\n",
    "\n",
    "fig = go.Figure(data=[go.Table(\n",
    "    header=dict(values=list(df.columns),\n",
    "                fill_color='paleturquoise',\n",
    "                align='left'),\n",
    "    cells=dict(values=[df[col] for col in df.columns],\n",
    "               fill_color='lavender',\n",
    "               align='left'))\n",
    "])\n",
    "\n",
    "fig.update_layout(width=5000, height=800)\n",
    "fig.show()"
   ]
  },
  {
   "cell_type": "code",
   "execution_count": null,
   "metadata": {},
   "outputs": [],
   "source": []
  }
 ],
 "metadata": {
  "kernelspec": {
   "display_name": "nougat",
   "language": "python",
   "name": "python3"
  },
  "language_info": {
   "codemirror_mode": {
    "name": "ipython",
    "version": 3
   },
   "file_extension": ".py",
   "mimetype": "text/x-python",
   "name": "python",
   "nbconvert_exporter": "python",
   "pygments_lexer": "ipython3",
   "version": "3.11.5"
  }
 },
 "nbformat": 4,
 "nbformat_minor": 2
}
